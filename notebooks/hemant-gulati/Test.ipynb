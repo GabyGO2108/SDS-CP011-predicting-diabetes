{
 "cells": [
  {
   "cell_type": "code",
   "execution_count": null,
   "id": "0a990d78-a52d-4335-a58f-30cf498b21bb",
   "metadata": {},
   "outputs": [
    {
     "name": "stdout",
     "output_type": "stream",
     "text": [
      "Pipeline components: [('preprocessor', ColumnTransformer(transformers=[('num', StandardScaler(),\n",
      "                                 ['hbA1c_level', 'blood_glucose_level', 'bmi',\n",
      "                                  'age']),\n",
      "                                ('cat', OneHotEncoder(handle_unknown='ignore'),\n",
      "                                 ['binned_blood_glucose_Diabetes',\n",
      "                                  'binned_hba1c_Severe Diabetes',\n",
      "                                  'hypertension', 'smoking_history',\n",
      "                                  'heart_disease', 'binned_bmi_Obese'])])), ('model', GradientBoostingClassifier(max_depth=5, random_state=42))]\n",
      "Pipeline type: <class 'sklearn.pipeline.Pipeline'>\n"
     ]
    }
   ],
   "source": [
    "import numpy as np\n",
    "import pandas as pd\n",
    "import joblib\n",
    "from collections import Counter\n",
    "\n",
    "# Load the entire pipeline (preprocessor + model)\n",
    "pipeline = joblib.load(\"../../web-app/hemant-gulati/pipeline.pkl\")\n",
    "print(\"Pipeline components:\", pipeline.steps)\n",
    "\n",
    "print(\"Pipeline type:\", type(pipeline))  # Should show sklearn Pipeline\n",
    "\n",
    "# Collect user inputs\n",
    "hbA1c_level = float(input(\"Enter HbA1c Level (e.g., 5.5): \"))\n",
    "blood_glucose_level = int(input(\"Enter Blood Glucose Level (e.g., 100): \"))\n",
    "bmi = float(input(\"Enter BMI (e.g., 24.5): \"))\n",
    "age = int(input(\"Enter Age (e.g., 45): \"))\n",
    "hypertension = int(input(\"Enter Hypertension (0 for No, 1 for Yes): \"))\n",
    "smoking_history = int(input(\"Enter Smoking History (0 for No, 1 for Yes): \"))\n",
    "heart_disease = int(input(\"Enter Heart Disease (0 for No, 1 for Yes): \"))\n",
    "\n",
    "# Prepare user data in a dictionary format\n",
    "user_data = {\n",
    "    'hbA1c_level': [hbA1c_level],\n",
    "    'blood_glucose_level': [blood_glucose_level],\n",
    "    'bmi': [bmi],\n",
    "    'age': [age],\n",
    "    'hypertension': [hypertension],\n",
    "    'smoking_history': [smoking_history],\n",
    "    'heart_disease': [heart_disease]\n",
    "}\n",
    "\n",
    "# Convert user input to DataFrame\n",
    "user_df = pd.DataFrame(user_data)\n",
    "\n",
    "# Automatically generate binned columns\n",
    "user_df['binned_blood_glucose_Diabetes'] = (user_df['blood_glucose_level'] > 125).astype(int)\n",
    "user_df['binned_hba1c_Severe Diabetes'] = (user_df['hbA1c_level'] > 7.5).astype(int)\n",
    "user_df['binned_bmi_Obese'] = (user_df['bmi'] >= 30).astype(int)\n",
    "\n",
    "# Define the required feature columns\n",
    "top_features = [\n",
    "    'hbA1c_level', 'blood_glucose_level', 'bmi', 'age', \n",
    "    'hypertension', 'smoking_history', 'heart_disease',\n",
    "    'binned_blood_glucose_Diabetes', 'binned_hba1c_Severe Diabetes', 'binned_bmi_Obese'\n",
    "]\n",
    "\n",
    "# Ensure the DataFrame has all required columns\n",
    "user_df_final = user_df[top_features]\n",
    "\n",
    "# Make prediction with the loaded pipeline\n",
    "prediction = pipeline.predict(user_df_final)[0]\n",
    "prediction_proba = pipeline.predict_proba(user_df_final)[0]\n",
    "\n",
    "# Interpret the prediction\n",
    "if prediction == 0:\n",
    "    prediction_label = \"Non-diabetic\"\n",
    "elif prediction == 1:\n",
    "    prediction_label = \"Pre-diabetic\"\n",
    "else:\n",
    "    prediction_label = \"Diabetic\"\n",
    "\n",
    "# Display the prediction and confidence level\n",
    "print(f\"Prediction: {prediction_label}\")\n",
    "print(f\"Confidence Level: {np.max(prediction_proba) * 100:.2f}%\")\n"
   ]
  },
  {
   "cell_type": "code",
   "execution_count": null,
   "id": "e218f294-cb7e-4867-88cd-5d4f3cb52141",
   "metadata": {},
   "outputs": [],
   "source": []
  }
 ],
 "metadata": {
  "kernelspec": {
   "display_name": "Python 3 (ipykernel)",
   "language": "python",
   "name": "python3"
  },
  "language_info": {
   "codemirror_mode": {
    "name": "ipython",
    "version": 3
   },
   "file_extension": ".py",
   "mimetype": "text/x-python",
   "name": "python",
   "nbconvert_exporter": "python",
   "pygments_lexer": "ipython3",
   "version": "3.11.7"
  }
 },
 "nbformat": 4,
 "nbformat_minor": 5
}
